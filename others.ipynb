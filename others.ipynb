{
 "cells": [
  {
   "cell_type": "code",
   "execution_count": 2,
   "metadata": {},
   "outputs": [
    {
     "ename": "ModuleNotFoundError",
     "evalue": "No module named 'resource'",
     "output_type": "error",
     "traceback": [
      "\u001b[1;31m---------------------------------------------------------------------------\u001b[0m",
      "\u001b[1;31mModuleNotFoundError\u001b[0m                       Traceback (most recent call last)",
      "Cell \u001b[1;32mIn[2], line 2\u001b[0m\n\u001b[0;32m      1\u001b[0m \u001b[38;5;28;01mimport\u001b[39;00m \u001b[38;5;21;01mpandas\u001b[39;00m \u001b[38;5;28;01mas\u001b[39;00m \u001b[38;5;21;01mpd\u001b[39;00m \n\u001b[1;32m----> 2\u001b[0m \u001b[38;5;28;01mimport\u001b[39;00m \u001b[38;5;21;01mresource\u001b[39;00m\n",
      "\u001b[1;31mModuleNotFoundError\u001b[0m: No module named 'resource'"
     ]
    }
   ],
   "source": [
    "import pandas as pd \n",
    "import resource"
   ]
  },
  {
   "cell_type": "code",
   "execution_count": 2,
   "metadata": {},
   "outputs": [
    {
     "name": "stderr",
     "output_type": "stream",
     "text": [
      "C:\\Users\\angel\\AppData\\Local\\Temp\\ipykernel_26420\\1178206846.py:1: DtypeWarning: Columns (5,11) have mixed types. Specify dtype option on import or set low_memory=False.\n",
      "  all_data = pd.read_csv('./data/consumer_complaints.csv')\n"
     ]
    },
    {
     "data": {
      "text/html": [
       "<div>\n",
       "<style scoped>\n",
       "    .dataframe tbody tr th:only-of-type {\n",
       "        vertical-align: middle;\n",
       "    }\n",
       "\n",
       "    .dataframe tbody tr th {\n",
       "        vertical-align: top;\n",
       "    }\n",
       "\n",
       "    .dataframe thead th {\n",
       "        text-align: right;\n",
       "    }\n",
       "</style>\n",
       "<table border=\"1\" class=\"dataframe\">\n",
       "  <thead>\n",
       "    <tr style=\"text-align: right;\">\n",
       "      <th></th>\n",
       "      <th>product</th>\n",
       "      <th>consumer_complaint_narrative</th>\n",
       "    </tr>\n",
       "  </thead>\n",
       "  <tbody>\n",
       "    <tr>\n",
       "      <th>190126</th>\n",
       "      <td>Debt collection</td>\n",
       "      <td>XXXX has claimed I owe them {$27.00} for XXXX ...</td>\n",
       "    </tr>\n",
       "    <tr>\n",
       "      <th>190135</th>\n",
       "      <td>Consumer Loan</td>\n",
       "      <td>Due to inconsistencies in the amount owed that...</td>\n",
       "    </tr>\n",
       "    <tr>\n",
       "      <th>190155</th>\n",
       "      <td>Mortgage</td>\n",
       "      <td>In XX/XX/XXXX my wages that I earned at my job...</td>\n",
       "    </tr>\n",
       "    <tr>\n",
       "      <th>190207</th>\n",
       "      <td>Mortgage</td>\n",
       "      <td>I have an open and current mortgage with Chase...</td>\n",
       "    </tr>\n",
       "    <tr>\n",
       "      <th>190208</th>\n",
       "      <td>Mortgage</td>\n",
       "      <td>XXXX was submitted XX/XX/XXXX. At the time I s...</td>\n",
       "    </tr>\n",
       "    <tr>\n",
       "      <th>...</th>\n",
       "      <td>...</td>\n",
       "      <td>...</td>\n",
       "    </tr>\n",
       "    <tr>\n",
       "      <th>553084</th>\n",
       "      <td>Credit reporting</td>\n",
       "      <td>XXXX XXXX is reporting incorrectly, payments h...</td>\n",
       "    </tr>\n",
       "    <tr>\n",
       "      <th>553085</th>\n",
       "      <td>Credit reporting</td>\n",
       "      <td>Reflecting incorrect payment status. Have been...</td>\n",
       "    </tr>\n",
       "    <tr>\n",
       "      <th>553086</th>\n",
       "      <td>Payday loan</td>\n",
       "      <td>I have been paying {$180.00} a month through d...</td>\n",
       "    </tr>\n",
       "    <tr>\n",
       "      <th>553090</th>\n",
       "      <td>Mortgage</td>\n",
       "      <td>I recently became aware that Amerisave Mortgag...</td>\n",
       "    </tr>\n",
       "    <tr>\n",
       "      <th>553096</th>\n",
       "      <td>Mortgage</td>\n",
       "      <td>Bank of America has demonstrated an on-going l...</td>\n",
       "    </tr>\n",
       "  </tbody>\n",
       "</table>\n",
       "<p>66806 rows × 2 columns</p>\n",
       "</div>"
      ],
      "text/plain": [
       "                 product                       consumer_complaint_narrative\n",
       "190126   Debt collection  XXXX has claimed I owe them {$27.00} for XXXX ...\n",
       "190135     Consumer Loan  Due to inconsistencies in the amount owed that...\n",
       "190155          Mortgage  In XX/XX/XXXX my wages that I earned at my job...\n",
       "190207          Mortgage  I have an open and current mortgage with Chase...\n",
       "190208          Mortgage  XXXX was submitted XX/XX/XXXX. At the time I s...\n",
       "...                  ...                                                ...\n",
       "553084  Credit reporting  XXXX XXXX is reporting incorrectly, payments h...\n",
       "553085  Credit reporting  Reflecting incorrect payment status. Have been...\n",
       "553086       Payday loan  I have been paying {$180.00} a month through d...\n",
       "553090          Mortgage  I recently became aware that Amerisave Mortgag...\n",
       "553096          Mortgage  Bank of America has demonstrated an on-going l...\n",
       "\n",
       "[66806 rows x 2 columns]"
      ]
     },
     "execution_count": 2,
     "metadata": {},
     "output_type": "execute_result"
    }
   ],
   "source": [
    "all_data = pd.read_csv('./data/consumer_complaints.csv')\n",
    "df = all_data[['product', 'consumer_complaint_narrative']].copy()\n",
    "df.dropna(inplace=True)\n",
    "df"
   ]
  },
  {
   "cell_type": "code",
   "execution_count": 5,
   "metadata": {},
   "outputs": [],
   "source": [
    "t = round(len(all_data)/2)\n",
    "all_1 = all_data.iloc[:t, :]\n",
    "all_2 = all_data.iloc[t:, :]\n",
    "\n",
    "all_1.to_csv('./data/past_complaint_1.csv', index=False)\n",
    "all_2.to_csv('./data/past_complaint_2.csv', index=False)"
   ]
  },
  {
   "cell_type": "code",
   "execution_count": 60,
   "metadata": {},
   "outputs": [],
   "source": [
    "sampled_df = df.groupby('product').apply(lambda x: x.sample(n=30, random_state=42))\n",
    "\n",
    "# Get the indices of the sampled rows\n",
    "sampled_indices = sampled_df.index.get_level_values(1)\n",
    "\n",
    "\n",
    "\n"
   ]
  },
  {
   "cell_type": "code",
   "execution_count": 61,
   "metadata": {},
   "outputs": [],
   "source": [
    "sampled_df = all_data[all_data.index.isin(sampled_indices)].copy()\n",
    "sampled_df.drop(columns=['product', 'sub_product'], inplace=True)\n",
    "\n",
    "remaining_df = all_data.drop(sampled_indices)"
   ]
  },
  {
   "cell_type": "code",
   "execution_count": 63,
   "metadata": {},
   "outputs": [],
   "source": [
    "sampled_df.to_csv('./data/customer complaint.csv', index=False)\n",
    "remaining_df.to_csv('./data/past_customer_complaints.csv', index=False)"
   ]
  }
 ],
 "metadata": {
  "kernelspec": {
   "display_name": "tf",
   "language": "python",
   "name": "python3"
  },
  "language_info": {
   "codemirror_mode": {
    "name": "ipython",
    "version": 3
   },
   "file_extension": ".py",
   "mimetype": "text/x-python",
   "name": "python",
   "nbconvert_exporter": "python",
   "pygments_lexer": "ipython3",
   "version": "3.9.19"
  }
 },
 "nbformat": 4,
 "nbformat_minor": 2
}
