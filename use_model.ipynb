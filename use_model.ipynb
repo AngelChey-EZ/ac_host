{
 "cells": [
  {
   "cell_type": "code",
   "execution_count": 1,
   "metadata": {},
   "outputs": [],
   "source": [
    "import numpy as np\n",
    "import pandas as pd\n",
    "import matplotlib.pyplot as plt\n",
    "import tensorflow as tf\n",
    "from tensorflow.keras.preprocessing.text import Tokenizer\n",
    "from tensorflow.keras.preprocessing.sequence import pad_sequences\n",
    "from tensorflow.keras.models import Sequential\n",
    "from tensorflow.keras.layers import Dense, Flatten, Conv1D, MaxPooling1D, GlobalMaxPooling1D, Dropout, Embedding\n",
    "from tensorflow.keras.models import load_model\n"
   ]
  },
  {
   "cell_type": "code",
   "execution_count": 2,
   "metadata": {},
   "outputs": [],
   "source": [
    "# Load required stuff\n",
    "#Load pre-trained CNN model\n",
    "model = load_model('./output/Model')\n",
    "\n",
    "#Define product category\n",
    "product_category = ['Debt collection', 'Consumer Loan', 'Mortgage', 'Credit card', 'Credit reporting', 'Student loan', 'Bank account or service', 'Payday loan', 'Money transfers', 'Other financial service', 'Prepaid card']\n",
    "\n",
    "#Input consumer complaints data\n",
    "complaints = pd.read_csv('./data/new customer complaint.csv')\n",
    "\n",
    "#Transform complaints data into list\n",
    "a = complaints['consumer_complaint_narrative']\n",
    "b = list(a)\n"
   ]
  },
  {
   "cell_type": "code",
   "execution_count": 3,
   "metadata": {},
   "outputs": [
    {
     "ename": "ValueError",
     "evalue": "in user code:\n\n    File \"c:\\Users\\angel\\anaconda3\\envs\\tf-gpu\\lib\\site-packages\\keras\\engine\\training.py\", line 2041, in predict_function  *\n        return step_function(self, iterator)\n    File \"c:\\Users\\angel\\anaconda3\\envs\\tf-gpu\\lib\\site-packages\\keras\\engine\\training.py\", line 2027, in step_function  **\n        outputs = model.distribute_strategy.run(run_step, args=(data,))\n    File \"c:\\Users\\angel\\anaconda3\\envs\\tf-gpu\\lib\\site-packages\\keras\\engine\\training.py\", line 2015, in run_step  **\n        outputs = model.predict_step(data)\n    File \"c:\\Users\\angel\\anaconda3\\envs\\tf-gpu\\lib\\site-packages\\keras\\engine\\training.py\", line 1983, in predict_step\n        return self(x, training=False)\n    File \"c:\\Users\\angel\\anaconda3\\envs\\tf-gpu\\lib\\site-packages\\keras\\utils\\traceback_utils.py\", line 70, in error_handler\n        raise e.with_traceback(filtered_tb) from None\n    File \"c:\\Users\\angel\\anaconda3\\envs\\tf-gpu\\lib\\site-packages\\keras\\engine\\input_spec.py\", line 295, in assert_input_compatibility\n        raise ValueError(\n\n    ValueError: Input 0 of layer \"sequential\" is incompatible with the layer: expected shape=(None, 865), found shape=(None, 864)\n",
     "output_type": "error",
     "traceback": [
      "\u001b[1;31m---------------------------------------------------------------------------\u001b[0m",
      "\u001b[1;31mValueError\u001b[0m                                Traceback (most recent call last)",
      "Cell \u001b[1;32mIn[3], line 14\u001b[0m\n\u001b[0;32m     12\u001b[0m     encoded_test \u001b[38;5;241m=\u001b[39m token\u001b[38;5;241m.\u001b[39mtexts_to_sequences(i)\n\u001b[0;32m     13\u001b[0m     test \u001b[38;5;241m=\u001b[39m pad_sequences(encoded_test, maxlen\u001b[38;5;241m=\u001b[39m\u001b[38;5;241m864\u001b[39m, padding\u001b[38;5;241m=\u001b[39m\u001b[38;5;124m'\u001b[39m\u001b[38;5;124mpost\u001b[39m\u001b[38;5;124m'\u001b[39m)\n\u001b[1;32m---> 14\u001b[0m     test_predict \u001b[38;5;241m=\u001b[39m \u001b[43mmodel\u001b[49m\u001b[38;5;241;43m.\u001b[39;49m\u001b[43mpredict\u001b[49m\u001b[43m(\u001b[49m\u001b[43mtest\u001b[49m\u001b[43m)\u001b[49m\n\u001b[0;32m     15\u001b[0m     c\u001b[38;5;241m.\u001b[39mappend(product_category[\u001b[38;5;28mint\u001b[39m(np\u001b[38;5;241m.\u001b[39margmax(test_predict[\u001b[38;5;241m0\u001b[39m]))])\n\u001b[0;32m     18\u001b[0m \u001b[38;5;66;03m#Specify output path\u001b[39;00m\n",
      "File \u001b[1;32mc:\\Users\\angel\\anaconda3\\envs\\tf-gpu\\lib\\site-packages\\keras\\utils\\traceback_utils.py:70\u001b[0m, in \u001b[0;36mfilter_traceback.<locals>.error_handler\u001b[1;34m(*args, **kwargs)\u001b[0m\n\u001b[0;32m     67\u001b[0m     filtered_tb \u001b[38;5;241m=\u001b[39m _process_traceback_frames(e\u001b[38;5;241m.\u001b[39m__traceback__)\n\u001b[0;32m     68\u001b[0m     \u001b[38;5;66;03m# To get the full stack trace, call:\u001b[39;00m\n\u001b[0;32m     69\u001b[0m     \u001b[38;5;66;03m# `tf.debugging.disable_traceback_filtering()`\u001b[39;00m\n\u001b[1;32m---> 70\u001b[0m     \u001b[38;5;28;01mraise\u001b[39;00m e\u001b[38;5;241m.\u001b[39mwith_traceback(filtered_tb) \u001b[38;5;28;01mfrom\u001b[39;00m \u001b[38;5;28;01mNone\u001b[39;00m\n\u001b[0;32m     71\u001b[0m \u001b[38;5;28;01mfinally\u001b[39;00m:\n\u001b[0;32m     72\u001b[0m     \u001b[38;5;28;01mdel\u001b[39;00m filtered_tb\n",
      "File \u001b[1;32m~\\AppData\\Local\\Temp\\__autograph_generated_filex08uz7fj.py:15\u001b[0m, in \u001b[0;36mouter_factory.<locals>.inner_factory.<locals>.tf__predict_function\u001b[1;34m(iterator)\u001b[0m\n\u001b[0;32m     13\u001b[0m \u001b[38;5;28;01mtry\u001b[39;00m:\n\u001b[0;32m     14\u001b[0m     do_return \u001b[38;5;241m=\u001b[39m \u001b[38;5;28;01mTrue\u001b[39;00m\n\u001b[1;32m---> 15\u001b[0m     retval_ \u001b[38;5;241m=\u001b[39m ag__\u001b[38;5;241m.\u001b[39mconverted_call(ag__\u001b[38;5;241m.\u001b[39mld(step_function), (ag__\u001b[38;5;241m.\u001b[39mld(\u001b[38;5;28mself\u001b[39m), ag__\u001b[38;5;241m.\u001b[39mld(iterator)), \u001b[38;5;28;01mNone\u001b[39;00m, fscope)\n\u001b[0;32m     16\u001b[0m \u001b[38;5;28;01mexcept\u001b[39;00m:\n\u001b[0;32m     17\u001b[0m     do_return \u001b[38;5;241m=\u001b[39m \u001b[38;5;28;01mFalse\u001b[39;00m\n",
      "\u001b[1;31mValueError\u001b[0m: in user code:\n\n    File \"c:\\Users\\angel\\anaconda3\\envs\\tf-gpu\\lib\\site-packages\\keras\\engine\\training.py\", line 2041, in predict_function  *\n        return step_function(self, iterator)\n    File \"c:\\Users\\angel\\anaconda3\\envs\\tf-gpu\\lib\\site-packages\\keras\\engine\\training.py\", line 2027, in step_function  **\n        outputs = model.distribute_strategy.run(run_step, args=(data,))\n    File \"c:\\Users\\angel\\anaconda3\\envs\\tf-gpu\\lib\\site-packages\\keras\\engine\\training.py\", line 2015, in run_step  **\n        outputs = model.predict_step(data)\n    File \"c:\\Users\\angel\\anaconda3\\envs\\tf-gpu\\lib\\site-packages\\keras\\engine\\training.py\", line 1983, in predict_step\n        return self(x, training=False)\n    File \"c:\\Users\\angel\\anaconda3\\envs\\tf-gpu\\lib\\site-packages\\keras\\utils\\traceback_utils.py\", line 70, in error_handler\n        raise e.with_traceback(filtered_tb) from None\n    File \"c:\\Users\\angel\\anaconda3\\envs\\tf-gpu\\lib\\site-packages\\keras\\engine\\input_spec.py\", line 295, in assert_input_compatibility\n        raise ValueError(\n\n    ValueError: Input 0 of layer \"sequential\" is incompatible with the layer: expected shape=(None, 865), found shape=(None, 864)\n"
     ]
    }
   ],
   "source": [
    "#Transfrom complaints from dataframe column into a long list\n",
    "input_shape = model.layers[0].input_shape\n",
    "list_of_lists = [[x] for x in b]\n",
    "\n",
    "#Tokenizing text\n",
    "token = Tokenizer()\n",
    "token.fit_on_texts(list_of_lists)\n",
    "\n",
    "#Fit the model to classify all the input complaints data\n",
    "c = []\n",
    "for i in list_of_lists:\n",
    "    token.fit_on_texts(i)\n",
    "    encoded_test = token.texts_to_sequences(i)\n",
    "    test = pad_sequences(encoded_test, maxlen=input_shape[1], padding='post')\n",
    "    test_predict = model.predict(test)\n",
    "    c.append(product_category[int(np.argmax(test_predict[0]))])\n",
    "\n",
    "\n",
    "#Specify output path\n",
    "csv_file_path = './output/result.csv'\n",
    "\n",
    "\n",
    "\n",
    "# Write the data to the CSV file\n",
    "# with open(csv_file_path, 'w', newline='') as csv_file:\n",
    "complaints['Predicted Produce'] = c\n",
    "complaints.to_csv('./output/result.csv', index=False)\n"
   ]
  },
  {
   "cell_type": "code",
   "execution_count": 7,
   "metadata": {},
   "outputs": [],
   "source": [
    "import matplotlib.pyplot as plt \n",
    "from io import BytesIO\n",
    "import seaborn as sns\n",
    "sns.set_theme()\n",
    "\n",
    "from reportlab.lib.pagesizes import A4\n",
    "from reportlab.platypus import SimpleDocTemplate, BaseDocTemplate, Paragraph, Image, PageBreak, Frame, PageTemplate\n",
    "from reportlab.lib.styles import getSampleStyleSheet, ParagraphStyle"
   ]
  },
  {
   "cell_type": "code",
   "execution_count": 16,
   "metadata": {},
   "outputs": [],
   "source": [
    "# start pdf\n",
    "doc = SimpleDocTemplate('./output/report2.pdf', pagesize=A4)\n",
    "styles = getSampleStyleSheet()\n",
    "\n",
    "elements = []\n",
    "\n",
    "centered_h3_style = ParagraphStyle(\n",
    "        name='CenteredH3',\n",
    "        parent=styles['Heading3'],  # Inherit properties from Heading3 style\n",
    "        alignment=1,  # 0=left, 1=center, 2=right, 3=justify\n",
    "    )"
   ]
  },
  {
   "cell_type": "code",
   "execution_count": 17,
   "metadata": {},
   "outputs": [],
   "source": [
    "# start report\n",
    "elements.append(Paragraph(\"Report Customer Complaint Classification on Product Category\", styles['Title']))\n",
    "elements.append(PageBreak())"
   ]
  },
  {
   "cell_type": "code",
   "execution_count": 18,
   "metadata": {},
   "outputs": [],
   "source": [
    "sns.countplot(y=c)\n",
    "plt.title('Count on Predicted Product Category')\n",
    "plt.ylabel('Product Category')\n",
    "plt.tight_layout()\n",
    "\n",
    "buffer = BytesIO()\n",
    "plt.savefig(buffer, format='png')\n",
    "buffer.seek(0)\n",
    "plt.close()\n",
    "\n",
    "elements.append(Image(buffer, width=400, height=300))"
   ]
  },
  {
   "cell_type": "code",
   "execution_count": 19,
   "metadata": {},
   "outputs": [],
   "source": [
    "doc.build(elements)"
   ]
  }
 ],
 "metadata": {
  "kernelspec": {
   "display_name": "tf",
   "language": "python",
   "name": "python3"
  },
  "language_info": {
   "codemirror_mode": {
    "name": "ipython",
    "version": 3
   },
   "file_extension": ".py",
   "mimetype": "text/x-python",
   "name": "python",
   "nbconvert_exporter": "python",
   "pygments_lexer": "ipython3",
   "version": "3.9.19"
  }
 },
 "nbformat": 4,
 "nbformat_minor": 2
}
